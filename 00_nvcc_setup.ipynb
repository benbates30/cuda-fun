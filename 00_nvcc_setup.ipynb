{
  "nbformat": 4,
  "nbformat_minor": 0,
  "metadata": {
    "colab": {
      "provenance": [],
      "authorship_tag": "ABX9TyMBJ0I/6vkLg3l2jrfj56tP",
      "include_colab_link": true
    },
    "kernelspec": {
      "name": "python3",
      "display_name": "Python 3"
    },
    "language_info": {
      "name": "python"
    }
  },
  "cells": [
    {
      "cell_type": "markdown",
      "metadata": {
        "id": "view-in-github",
        "colab_type": "text"
      },
      "source": [
        "<a href=\"https://colab.research.google.com/github/benbates30/cuda-fun/blob/basic-setup/00_nvcc_setup.ipynb\" target=\"_parent\"><img src=\"https://colab.research.google.com/assets/colab-badge.svg\" alt=\"Open In Colab\"/></a>"
      ]
    },
    {
      "cell_type": "code",
      "source": [],
      "metadata": {
        "id": "QN6xgcTeGfuT"
      },
      "execution_count": null,
      "outputs": []
    },
    {
      "cell_type": "markdown",
      "source": [
        "## 01-CUDA-basic\n",
        "\n",
        "#### Nvcc4jupyter\n",
        "\n",
        "Using the nvcc4jupyter tool based on [here](https://github.com/andreinechaev/nvcc4jupyter/tree/master). Very minor changes have been made in my personal repo of the tool, just for small bug/personal preference changes.\n"
      ],
      "metadata": {
        "id": "bMW1DdQiKtxt"
      }
    },
    {
      "cell_type": "markdown",
      "source": [],
      "metadata": {
        "id": "kd_4zjjVUInv"
      }
    },
    {
      "cell_type": "code",
      "execution_count": 1,
      "metadata": {
        "colab": {
          "base_uri": "https://localhost:8080/"
        },
        "id": "xpgiVixxGcHb",
        "outputId": "5e8cb5d5-8f94-446d-fa06-316010c48bb3"
      },
      "outputs": [
        {
          "output_type": "stream",
          "name": "stdout",
          "text": [
            "Collecting git+https://github.com/benbates30/nvcc4jupyter.git\n",
            "  Cloning https://github.com/benbates30/nvcc4jupyter.git to /tmp/pip-req-build-wt5583ez\n",
            "  Running command git clone --filter=blob:none --quiet https://github.com/benbates30/nvcc4jupyter.git /tmp/pip-req-build-wt5583ez\n",
            "  Resolved https://github.com/benbates30/nvcc4jupyter.git to commit 2f833f56743933b99b1c2beac7743416fe061a40\n",
            "  Preparing metadata (setup.py) ... \u001b[?25l\u001b[?25hdone\n",
            "Building wheels for collected packages: NVCCPlugin\n",
            "  Building wheel for NVCCPlugin (setup.py) ... \u001b[?25l\u001b[?25hdone\n",
            "  Created wheel for NVCCPlugin: filename=NVCCPlugin-0.0.2-py3-none-any.whl size=4724 sha256=164f45d221ba7dbe2ae85af87602de98ffeea75b8cdeae01372e43ce44057906\n",
            "  Stored in directory: /tmp/pip-ephem-wheel-cache-ln2syb3e/wheels/10/e9/bf/e8d96f9f7215b30d244f0cc5d9c23b58652086c4426a4dd3bf\n",
            "Successfully built NVCCPlugin\n",
            "Installing collected packages: NVCCPlugin\n",
            "Successfully installed NVCCPlugin-0.0.2\n",
            "created output directory at /content/src\n",
            "Out bin /content/result.out\n"
          ]
        }
      ],
      "source": [
        "!pip install git+https://github.com/benbates30/nvcc4jupyter.git\n",
        "%load_ext nvcc_plugin"
      ]
    },
    {
      "cell_type": "markdown",
      "source": [
        "Writing a basic file. It is not compiled and run immediately."
      ],
      "metadata": {
        "id": "DKkEqLTJUM4r"
      }
    },
    {
      "cell_type": "code",
      "source": [
        "%%cuda --name test.cu\n",
        "#include <iostream>\n",
        "\n",
        "int main() {\n",
        "    std::cout << \"Cout from cuda\\n\";\n",
        "    return 0;\n",
        "}"
      ],
      "metadata": {
        "colab": {
          "base_uri": "https://localhost:8080/",
          "height": 36
        },
        "id": "0O6rqouSGmBq",
        "outputId": "6fc08b9a-9f54-4882-a34f-8f233a3a8df2"
      },
      "execution_count": 15,
      "outputs": [
        {
          "output_type": "execute_result",
          "data": {
            "text/plain": [
              "'File written in /content/src/test.cu'"
            ],
            "application/vnd.google.colaboratory.intrinsic+json": {
              "type": "string"
            }
          },
          "metadata": {},
          "execution_count": 15
        }
      ]
    },
    {
      "cell_type": "markdown",
      "source": [
        "Compiling and running our cuda program. This is a trivial example, but can have headers etc. linked as well."
      ],
      "metadata": {
        "id": "qzOrp9vnUWqZ"
      }
    },
    {
      "cell_type": "code",
      "source": [
        "%%cuda_run\n",
        "# comment needed to avoid empty cell"
      ],
      "metadata": {
        "colab": {
          "base_uri": "https://localhost:8080/"
        },
        "id": "sr37UqgMNyrs",
        "outputId": "e56af99c-878a-4585-e56b-628a32946400"
      },
      "execution_count": 16,
      "outputs": [
        {
          "output_type": "stream",
          "name": "stdout",
          "text": [
            "found sources: ['/content/src/test.cu', '/content/src/example.cu']\n",
            "cc1plus: fatal error: /content/src/test.cu /content/src/example.cu: No such file or directory\n",
            "compilation terminated.\n",
            "\n"
          ]
        }
      ]
    },
    {
      "cell_type": "markdown",
      "source": [],
      "metadata": {
        "id": "Pfv19darGiK7"
      }
    }
  ]
}